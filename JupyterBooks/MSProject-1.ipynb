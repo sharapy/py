{
 "cells": [
  {
   "cell_type": "code",
   "execution_count": 74,
   "id": "5ff6b139",
   "metadata": {},
   "outputs": [],
   "source": [
    "def player_choice():\n",
    "    choice = True\n",
    "    player2 = ''\n",
    "    while choice:\n",
    "        player1 = input(\"Please select icon for Player1 (X or O): \")\n",
    "        if player1 not in ['X','O']:\n",
    "            print(\"Invalid Choice!\")\n",
    "            pass\n",
    "        else: choice = False\n",
    "    if player1 == 'X':\n",
    "        player2 = 'O'\n",
    "    else:\n",
    "        player2 = 'X'\n",
    "    print(f\"Player1: {player1}\\nPlayer2: {player2}\")\n",
    "    return (player1, player2)\n",
    "\n",
    "from IPython.display import clear_output\n",
    "def display_grid(i):\n",
    "    clear_output()\n",
    "    print(i[1],'|',i[2],'|',i[3])\n",
    "    print('---------')\n",
    "    print(i[4],'|',i[5],'|',i[6])\n",
    "    print('---------')\n",
    "    print(i[7],'|',i[8],'|',i[9])\n",
    "    \n",
    "# def move(player):\n",
    "#     choice = 'WRONG'\n",
    "#     within_range = False\n",
    "    \n",
    "#     while choice.isdigit() == False or within_range == False:\n",
    "        \n",
    "        \n",
    "#         choice = input(f\"Please enter {player} position(1-9): \")\n",
    "        \n",
    "#         if choice.isdigit() == False:\n",
    "#             print(\"Sorry, that's not a digit\")\n",
    "        \n",
    "#         if choice.isdigit() == True:\n",
    "#             if int(choice) in range(1,10):\n",
    "#                 within_range = True\n",
    "#             else:\n",
    "#                 print(\"1-9!!!\")\n",
    "#                 within_range = False\n",
    "        \n",
    "#     return int(choice)\n",
    "\n",
    "def insert_move(player_move,player):\n",
    "    position_list[player_move]=player\n",
    "    \n",
    "def move(player, position_list):\n",
    "    choice = 'WRONG'\n",
    "    within_range = False\n",
    "#     print(position_list)\n",
    "    \n",
    "    while choice.isdigit() == False or within_range == False:\n",
    "        \n",
    "        \n",
    "        choice = input(f\"Please enter {player} position(1-9): \")\n",
    "        \n",
    "        if choice.isdigit() == False:\n",
    "            print(\"Sorry, that's not a digit\")\n",
    "        \n",
    "        if choice.isdigit() == True:\n",
    "            if int(choice) in range(1,10):\n",
    "                if position_list[int(choice)] != 'X' or position_list[int(choice)] != 'O':\n",
    "#                     print(position_list)\n",
    "                    within_range = True\n",
    "                else: \n",
    "                    print(\"Wrong Move!!\")\n",
    "            else:\n",
    "                print(\"1-9!!!\")\n",
    "                within_range = False\n",
    "        \n",
    "    return int(choice)\n",
    "\n",
    "def win_check(pos):\n",
    "    if ((pos[1]==pos[2]==pos[3])==('X' or 'O')) or ((pos[4]==pos[5]==pos[6])==('X' or 'O')) or ((pos[7]==pos[8]==pos[9])==('X' or 'O')):\n",
    "        print(\"Congo\")\n",
    "        return 1\n",
    "    elif ((pos[1]==pos[4]==pos[7])== ('X' or 'O')) or ((pos[2]==pos[5]==pos[8])==('X' or 'O')) or ((pos[3]==pos[6]==pos[9])==('X' or 'O')):\n",
    "        print(\"Congo\")\n",
    "        return 1\n",
    "    elif ((pos[1]==pos[5]==pos[9])== ('X' or 'O')) or ((pos[7]==pos[5]==pos[3])==('X' or 'O')):\n",
    "        print(\"Congo\")\n",
    "        return 1\n",
    "    else:\n",
    "        if ' ' in pos:\n",
    "            print(\"Keep Playing\")\n",
    "        elif ' ' not in pos:\n",
    "            print(\"Tie!\")\n",
    "            return 2\n",
    "        else: \n",
    "            return 0\n",
    "        \n",
    "def start():\n",
    "    choice = True\n",
    "    while choice:\n",
    "        select_start = input(\"Do you want to continue? Y/N: \")\n",
    "\n",
    "        if select_start.lower() == 'y': \n",
    "            global position_list\n",
    "            position_list = ['#',' ',' ',' ',' ',' ',' ',' ',' ',' ']\n",
    "            start = True\n",
    "            choice = False\n",
    "            display_grid(position_list)\n",
    "        elif select_start.lower() == 'n': \n",
    "            print(\"Bye Bye!!!\")\n",
    "            start = False\n",
    "            choice = False\n",
    "        else: \n",
    "            print(\"Wrong choice!\")\n",
    "    return start\n",
    "\n",
    "def reset():\n",
    "    position_list = ['#',' ',' ',' ',' ',' ',' ',' ',' ',' ']\n",
    "    display_grid(position_list)\n",
    "    return position_list"
   ]
  },
  {
   "cell_type": "code",
   "execution_count": 75,
   "id": "673c0a28",
   "metadata": {},
   "outputs": [
    {
     "name": "stdout",
     "output_type": "stream",
     "text": [
      "X | X | O\n",
      "---------\n",
      "X | O | X\n",
      "---------\n",
      "O | X | O\n",
      "Tie!\n",
      "Do you want to continue? Y/N: N\n",
      "Bye Bye!!!\n"
     ]
    }
   ],
   "source": [
    "position_list = ['#',1,2,3,4,5,6,7,8,9]\n",
    "display_grid(position_list)\n",
    "\n",
    "game_on = True\n",
    "global position_list\n",
    "position_list = ['#',' ',' ',' ',' ',' ',' ',' ',' ',' ']\n",
    "#display_grid(position_list)\n",
    "val = False\n",
    "\n",
    "player1,player2 = player_choice()\n",
    "2\n",
    "while game_on:\n",
    "    player1_move = move('Player1', position_list)\n",
    "    insert_move(player1_move, player1)\n",
    "    display_grid(position_list)\n",
    "    val = win_check(position_list)\n",
    "    if val == 1:\n",
    "        print(\"Player1 Won!\")\n",
    "        game_on = start()\n",
    "        print(game_on)\n",
    "        continue\n",
    "    elif val == 2:\n",
    "        game_on = start()\n",
    "        continue\n",
    "        \n",
    "\n",
    "    player2_move = move('Player2', position_list)\n",
    "    insert_move(player2_move, player2)\n",
    "    display_grid(position_list)\n",
    "    val = win_check(position_list)\n",
    "    if val == 1:\n",
    "        print(\"Player2 won!\")\n",
    "        game_on = start()\n",
    "        print(game_on)\n",
    "    elif val == 2:\n",
    "        game_on = start()\n",
    "        continue"
   ]
  },
  {
   "cell_type": "code",
   "execution_count": 57,
   "id": "114be99d",
   "metadata": {},
   "outputs": [
    {
     "data": {
      "text/plain": [
       "1"
      ]
     },
     "execution_count": 57,
     "metadata": {},
     "output_type": "execute_result"
    }
   ],
   "source": [
    "A = 1\n",
    "B = 0\n",
    "A or B"
   ]
  },
  {
   "cell_type": "code",
   "execution_count": 67,
   "id": "bc292960",
   "metadata": {},
   "outputs": [
    {
     "data": {
      "text/plain": [
       "True"
      ]
     },
     "execution_count": 67,
     "metadata": {},
     "output_type": "execute_result"
    }
   ],
   "source": [
    "g=h=i=0\n",
    "(g==h==i)==(B or A)\n"
   ]
  },
  {
   "cell_type": "code",
   "execution_count": null,
   "id": "405a47fe",
   "metadata": {},
   "outputs": [],
   "source": []
  }
 ],
 "metadata": {
  "kernelspec": {
   "display_name": "Python 3 (ipykernel)",
   "language": "python",
   "name": "python3"
  },
  "language_info": {
   "codemirror_mode": {
    "name": "ipython",
    "version": 3
   },
   "file_extension": ".py",
   "mimetype": "text/x-python",
   "name": "python",
   "nbconvert_exporter": "python",
   "pygments_lexer": "ipython3",
   "version": "3.11.3"
  }
 },
 "nbformat": 4,
 "nbformat_minor": 5
}
