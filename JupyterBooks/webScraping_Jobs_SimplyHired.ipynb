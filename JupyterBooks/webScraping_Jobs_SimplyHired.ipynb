{
 "cells": [
  {
   "cell_type": "code",
   "execution_count": 1,
   "metadata": {},
   "outputs": [],
   "source": [
    "import requests\n",
    "import lxml\n",
    "import bs4"
   ]
  },
  {
   "cell_type": "code",
   "execution_count": 2,
   "metadata": {},
   "outputs": [],
   "source": [
    "states_dict = {\n",
    "    'AK': 'Alaska',\n",
    "    'AL': 'Alabama',\n",
    "    'AR': 'Arkansas',\n",
    "    'AZ': 'Arizona',\n",
    "    'CA': 'California',\n",
    "    'CO': 'Colorado',\n",
    "    'CT': 'Connecticut',\n",
    "    'DC': 'District of Columbia',\n",
    "    'DE': 'Delaware',\n",
    "    'FL': 'Florida',\n",
    "    'GA': 'Georgia',\n",
    "    'HI': 'Hawaii',\n",
    "    'IA': 'Iowa',\n",
    "    'ID': 'Idaho',\n",
    "    'IL': 'Illinois',\n",
    "    'IN': 'Indiana',\n",
    "    'KS': 'Kansas',\n",
    "    'KY': 'Kentucky',\n",
    "    'LA': 'Louisiana',\n",
    "    'MA': 'Massachusetts',\n",
    "    'MD': 'Maryland',\n",
    "    'ME': 'Maine',\n",
    "    'MI': 'Michigan',\n",
    "    'MN': 'Minnesota',\n",
    "    'MO': 'Missouri',\n",
    "    'MS': 'Mississippi',\n",
    "    'MT': 'Montana',\n",
    "    'NC': 'North Carolina',\n",
    "    'ND': 'North Dakota',\n",
    "    'NE': 'Nebraska',\n",
    "    'NH': 'New Hampshire',\n",
    "    'NJ': 'New Jersey',\n",
    "    'NM': 'New Mexico',\n",
    "    'NV': 'Nevada',\n",
    "    'NY': 'New York',\n",
    "    'OH': 'Ohio',\n",
    "    'OK': 'Oklahoma',\n",
    "    'OR': 'Oregon',\n",
    "    'PA': 'Pennsylvania',\n",
    "    'RI': 'Rhode Island',\n",
    "    'SC': 'South Carolina',\n",
    "    'SD': 'South Dakota',\n",
    "    'TN': 'Tennessee',\n",
    "    'TX': 'Texas',\n",
    "    'UT': 'Utah',\n",
    "    'VA': 'Virginia',\n",
    "    'VT': 'Vermont',\n",
    "    'WA': 'Washington',\n",
    "    'WI': 'Wisconsin',\n",
    "    'WV': 'West Virginia',\n",
    "    'WY': 'Wyoming'\n",
    "}"
   ]
  },
  {
   "cell_type": "code",
   "execution_count": 3,
   "metadata": {},
   "outputs": [],
   "source": [
    "URL = \"https://www.simplyhired.com/search?q=machine+learning+engineer&l=United+States\""
   ]
  },
  {
   "cell_type": "code",
   "execution_count": 6,
   "metadata": {},
   "outputs": [],
   "source": [
    "def get_soup(URL):\n",
    "    headers = {\"UserAgent\": \"Mozilla/5.0 (Windows NT 10.0; Win64; x64) AppleWebKit/537.36 (KHTML, like Gecko) Chrome/118.0.0.0 Safari/537.36\"}\n",
    "    result = requests.get(URL,headers=headers)\n",
    "    print(result.status_code)\n",
    "    soup = bs4.BeautifulSoup(result.text, \"lxml\")\n",
    "    return soup"
   ]
  },
  {
   "cell_type": "code",
   "execution_count": 7,
   "metadata": {},
   "outputs": [
    {
     "name": "stdout",
     "output_type": "stream",
     "text": [
      "403\n"
     ]
    },
    {
     "data": {
      "text/plain": [
       "<!DOCTYPE html>\n",
       "<!--[if lt IE 7]> <html class=\"no-js ie6 oldie\" lang=\"en-US\"> <![endif]--><!--[if IE 7]>    <html class=\"no-js ie7 oldie\" lang=\"en-US\"> <![endif]--><!--[if IE 8]>    <html class=\"no-js ie8 oldie\" lang=\"en-US\"> <![endif]--><!--[if gt IE 8]><!--><html class=\"no-js\" lang=\"en-US\"> <!--<![endif]-->\n",
       "<head>\n",
       "<title>Attention Required! | Cloudflare</title>\n",
       "<meta charset=\"utf-8\"/>\n",
       "<meta content=\"text/html; charset=utf-8\" http-equiv=\"Content-Type\"/>\n",
       "<meta content=\"IE=Edge\" http-equiv=\"X-UA-Compatible\"/>\n",
       "<meta content=\"noindex, nofollow\" name=\"robots\"/>\n",
       "<meta content=\"width=device-width,initial-scale=1\" name=\"viewport\"/>\n",
       "<link href=\"/cdn-cgi/styles/cf.errors.css\" id=\"cf_styles-css\" rel=\"stylesheet\"/>\n",
       "<!--[if lt IE 9]><link rel=\"stylesheet\" id='cf_styles-ie-css' href=\"/cdn-cgi/styles/cf.errors.ie.css\" /><![endif]-->\n",
       "<style>body{margin:0;padding:0}</style>\n",
       "<!--[if gte IE 10]><!-->\n",
       "<script>\n",
       "  if (!navigator.cookieEnabled) {\n",
       "    window.addEventListener('DOMContentLoaded', function () {\n",
       "      var cookieEl = document.getElementById('cookie-alert');\n",
       "      cookieEl.style.display = 'block';\n",
       "    })\n",
       "  }\n",
       "</script>\n",
       "<!--<![endif]-->\n",
       "</head>\n",
       "<body>\n",
       "<div id=\"cf-wrapper\">\n",
       "<div class=\"cf-alert cf-alert-error cf-cookie-error\" data-translate=\"enable_cookies\" id=\"cookie-alert\">Please enable cookies.</div>\n",
       "<div class=\"cf-error-details-wrapper\" id=\"cf-error-details\">\n",
       "<div class=\"cf-wrapper cf-header cf-error-overview\">\n",
       "<h1 data-translate=\"block_headline\">Sorry, you have been blocked</h1>\n",
       "<h2 class=\"cf-subheadline\"><span data-translate=\"unable_to_access\">You are unable to access</span> simplyhired.com</h2>\n",
       "</div><!-- /.header -->\n",
       "<div class=\"cf-section cf-highlight\">\n",
       "<div class=\"cf-wrapper\">\n",
       "<div class=\"cf-screenshot-container cf-screenshot-full\">\n",
       "<span class=\"cf-no-screenshot error\"></span>\n",
       "</div>\n",
       "</div>\n",
       "</div><!-- /.captcha-container -->\n",
       "<div class=\"cf-section cf-wrapper\">\n",
       "<div class=\"cf-columns two\">\n",
       "<div class=\"cf-column\">\n",
       "<h2 data-translate=\"blocked_why_headline\">Why have I been blocked?</h2>\n",
       "<p data-translate=\"blocked_why_detail\">This website is using a security service to protect itself from online attacks. The action you just performed triggered the security solution. There are several actions that could trigger this block including submitting a certain word or phrase, a SQL command or malformed data.</p>\n",
       "</div>\n",
       "<div class=\"cf-column\">\n",
       "<h2 data-translate=\"blocked_resolve_headline\">What can I do to resolve this?</h2>\n",
       "<p data-translate=\"blocked_resolve_detail\">You can email the site owner to let them know you were blocked. Please include what you were doing when this page came up and the Cloudflare Ray ID found at the bottom of this page.</p>\n",
       "</div>\n",
       "</div>\n",
       "</div><!-- /.section -->\n",
       "<div class=\"cf-error-footer cf-wrapper w-240 lg:w-full py-10 sm:py-4 sm:px-8 mx-auto text-center sm:text-left border-solid border-0 border-t border-gray-300\">\n",
       "<p class=\"text-13\">\n",
       "<span class=\"cf-footer-item sm:block sm:mb-1\">Cloudflare Ray ID: <strong class=\"font-semibold\">822d0e156c7b5e24</strong></span>\n",
       "<span class=\"cf-footer-separator sm:hidden\">•</span>\n",
       "<span class=\"cf-footer-item hidden sm:block sm:mb-1\" id=\"cf-footer-item-ip\">\n",
       "      Your IP:\n",
       "      <button class=\"cf-footer-ip-reveal-btn\" id=\"cf-footer-ip-reveal\" type=\"button\">Click to reveal</button>\n",
       "<span class=\"hidden\" id=\"cf-footer-ip\">86.98.165.34</span>\n",
       "<span class=\"cf-footer-separator sm:hidden\">•</span>\n",
       "</span>\n",
       "<span class=\"cf-footer-item sm:block sm:mb-1\"><span>Performance &amp; security by</span> <a href=\"https://www.cloudflare.com/5xx-error-landing\" id=\"brand_link\" rel=\"noopener noreferrer\" target=\"_blank\">Cloudflare</a></span>\n",
       "</p>\n",
       "<script>(function(){function d(){var b=a.getElementById(\"cf-footer-item-ip\"),c=a.getElementById(\"cf-footer-ip-reveal\");b&&\"classList\"in b&&(b.classList.remove(\"hidden\"),c.addEventListener(\"click\",function(){c.classList.add(\"hidden\");a.getElementById(\"cf-footer-ip\").classList.remove(\"hidden\")}))}var a=document;document.addEventListener&&a.addEventListener(\"DOMContentLoaded\",d)})();</script>\n",
       "</div><!-- /.error-footer -->\n",
       "</div><!-- /#cf-error-details -->\n",
       "</div><!-- /#cf-wrapper -->\n",
       "<script>\n",
       "  window._cf_translation = {};\n",
       "  \n",
       "  \n",
       "</script>\n",
       "</body>\n",
       "</html>"
      ]
     },
     "execution_count": 7,
     "metadata": {},
     "output_type": "execute_result"
    }
   ],
   "source": [
    "simple_soup = get_soup(URL)\n",
    "simple_soup"
   ]
  },
  {
   "cell_type": "code",
   "execution_count": 39,
   "metadata": {},
   "outputs": [
    {
     "ename": "TypeError",
     "evalue": "WebDriver.__init__() got multiple values for argument 'options'",
     "output_type": "error",
     "traceback": [
      "\u001b[1;31m---------------------------------------------------------------------------\u001b[0m",
      "\u001b[1;31mTypeError\u001b[0m                                 Traceback (most recent call last)",
      "\u001b[1;32mc:\\Users\\shara\\Documents\\Code\\py\\JupyterBooks\\webScraping_Jobs_SimplyHired.ipynb Cell 6\u001b[0m line \u001b[0;36m7\n\u001b[0;32m      <a href='vscode-notebook-cell:/c%3A/Users/shara/Documents/Code/py/JupyterBooks/webScraping_Jobs_SimplyHired.ipynb#X13sZmlsZQ%3D%3D?line=4'>5</a>\u001b[0m options \u001b[39m=\u001b[39m webdriver\u001b[39m.\u001b[39mChromeOptions()\n\u001b[0;32m      <a href='vscode-notebook-cell:/c%3A/Users/shara/Documents/Code/py/JupyterBooks/webScraping_Jobs_SimplyHired.ipynb#X13sZmlsZQ%3D%3D?line=5'>6</a>\u001b[0m options\u001b[39m.\u001b[39madd_argument(\u001b[39mr\u001b[39m\u001b[39m\"\u001b[39m\u001b[39muser-data-dir=C:\u001b[39m\u001b[39m\\\u001b[39m\u001b[39mUsers\u001b[39m\u001b[39m\\\u001b[39m\u001b[39mshara\u001b[39m\u001b[39m\\\u001b[39m\u001b[39mAppData\u001b[39m\u001b[39m\\\u001b[39m\u001b[39mLocal\u001b[39m\u001b[39m\\\u001b[39m\u001b[39mGoogle\u001b[39m\u001b[39m\\\u001b[39m\u001b[39mChrome\u001b[39m\u001b[39m\\\u001b[39m\u001b[39mUser\u001b[39m\u001b[39m\\\u001b[39m\u001b[39mData\u001b[39m\u001b[39m\"\u001b[39m)\n\u001b[1;32m----> <a href='vscode-notebook-cell:/c%3A/Users/shara/Documents/Code/py/JupyterBooks/webScraping_Jobs_SimplyHired.ipynb#X13sZmlsZQ%3D%3D?line=6'>7</a>\u001b[0m driver \u001b[39m=\u001b[39m webdriver\u001b[39m.\u001b[39mChrome(path, options\u001b[39m=\u001b[39moptions) \n\u001b[0;32m      <a href='vscode-notebook-cell:/c%3A/Users/shara/Documents/Code/py/JupyterBooks/webScraping_Jobs_SimplyHired.ipynb#X13sZmlsZQ%3D%3D?line=7'>8</a>\u001b[0m sleep(\u001b[39m1\u001b[39m)\n\u001b[0;32m      <a href='vscode-notebook-cell:/c%3A/Users/shara/Documents/Code/py/JupyterBooks/webScraping_Jobs_SimplyHired.ipynb#X13sZmlsZQ%3D%3D?line=8'>9</a>\u001b[0m driver\u001b[39m.\u001b[39mget(\u001b[39m\"\u001b[39m\u001b[39mhttps://example.com/\u001b[39m\u001b[39m\"\u001b[39m)\n",
      "\u001b[1;31mTypeError\u001b[0m: WebDriver.__init__() got multiple values for argument 'options'"
     ]
    }
   ],
   "source": [
    "from selenium import webdriver\n",
    "from time import sleep\n",
    "from selenium.webdriver.chrome.options import Options\n",
    "path = r'C:\\Users\\shara\\Documents\\Code\\py\\JupyterBooks\\chromedriver.exe'\n",
    "options = webdriver.ChromeOptions()\n",
    "options.add_argument(r\"user-data-dir=C:\\Users\\shara\\AppData\\Local\\Google\\Chrome\\User\\Data\")\n",
    "driver = webdriver.Chrome(path, options=options) \n",
    "sleep(1)\n",
    "driver.get(\"https://example.com/\")"
   ]
  },
  {
   "cell_type": "code",
   "execution_count": 42,
   "metadata": {},
   "outputs": [],
   "source": [
    "from selenium import webdriver\n",
    "from selenium.webdriver.chrome.service import Service\n",
    "from webdriver_manager.chrome import ChromeDriverManager"
   ]
  },
  {
   "cell_type": "code",
   "execution_count": 43,
   "metadata": {},
   "outputs": [],
   "source": [
    "driver = webdriver.Chrome(service=Service(ChromeDriverManager().install()))"
   ]
  },
  {
   "cell_type": "code",
   "execution_count": 45,
   "metadata": {},
   "outputs": [
    {
     "ename": "SessionNotCreatedException",
     "evalue": "Message: session not created: This version of ChromeDriver only supports Chrome version 114\nCurrent browser version is 118.0.5993.118 with binary path C:\\Program Files\\Google\\Chrome\\Application\\chrome.exe\nStacktrace:\nBacktrace:\n\tGetHandleVerifier [0x009F6E73+48323]\n\t(No symbol) [0x00989661]\n\t(No symbol) [0x00895308]\n\t(No symbol) [0x008B634C]\n\t(No symbol) [0x008B2093]\n\t(No symbol) [0x008B0719]\n\t(No symbol) [0x008E0DF5]\n\t(No symbol) [0x008E0ADC]\n\t(No symbol) [0x008DA6D6]\n\t(No symbol) [0x008B847C]\n\t(No symbol) [0x008B957D]\n\tGetHandleVerifier [0x00C5FD5D+2575277]\n\tGetHandleVerifier [0x00C9F86E+2836158]\n\tGetHandleVerifier [0x00C996DC+2811180]\n\tGetHandleVerifier [0x00A841B0+626688]\n\t(No symbol) [0x0099314C]\n\t(No symbol) [0x0098F4B8]\n\t(No symbol) [0x0098F59B]\n\t(No symbol) [0x009821B7]\n\tBaseThreadInitThunk [0x76376839+25]\n\tRtlGetFullPathName_UEx [0x77C3906F+1215]\n\tRtlGetFullPathName_UEx [0x77C3903D+1165]\n",
     "output_type": "error",
     "traceback": [
      "\u001b[1;31m---------------------------------------------------------------------------\u001b[0m",
      "\u001b[1;31mSessionNotCreatedException\u001b[0m                Traceback (most recent call last)",
      "\u001b[1;32mc:\\Users\\shara\\Documents\\Code\\py\\JupyterBooks\\webScraping_Jobs_SimplyHired.ipynb Cell 9\u001b[0m line \u001b[0;36m5\n\u001b[0;32m      <a href='vscode-notebook-cell:/c%3A/Users/shara/Documents/Code/py/JupyterBooks/webScraping_Jobs_SimplyHired.ipynb#X20sZmlsZQ%3D%3D?line=1'>2</a>\u001b[0m \u001b[39mfrom\u001b[39;00m \u001b[39mselenium\u001b[39;00m\u001b[39m.\u001b[39;00m\u001b[39mwebdriver\u001b[39;00m\u001b[39m.\u001b[39;00m\u001b[39mchrome\u001b[39;00m\u001b[39m.\u001b[39;00m\u001b[39mservice\u001b[39;00m \u001b[39mimport\u001b[39;00m Service \n\u001b[0;32m      <a href='vscode-notebook-cell:/c%3A/Users/shara/Documents/Code/py/JupyterBooks/webScraping_Jobs_SimplyHired.ipynb#X20sZmlsZQ%3D%3D?line=3'>4</a>\u001b[0m ser \u001b[39m=\u001b[39m Service(\u001b[39mr\u001b[39m\u001b[39m\"\u001b[39m\u001b[39mC:/Users/shara/Documents/Code/py/JupyterBooks/chromedriver.exe\u001b[39m\u001b[39m\"\u001b[39m)\n\u001b[1;32m----> <a href='vscode-notebook-cell:/c%3A/Users/shara/Documents/Code/py/JupyterBooks/webScraping_Jobs_SimplyHired.ipynb#X20sZmlsZQ%3D%3D?line=4'>5</a>\u001b[0m driver \u001b[39m=\u001b[39m webdriver\u001b[39m.\u001b[39mChrome(service\u001b[39m=\u001b[39mser)\n\u001b[0;32m      <a href='vscode-notebook-cell:/c%3A/Users/shara/Documents/Code/py/JupyterBooks/webScraping_Jobs_SimplyHired.ipynb#X20sZmlsZQ%3D%3D?line=5'>6</a>\u001b[0m driver\u001b[39m.\u001b[39mget(\u001b[39m\"\u001b[39m\u001b[39mhttps://www.google.com\u001b[39m\u001b[39m\"\u001b[39m)\n",
      "File \u001b[1;32mc:\\Users\\shara\\anaconda3\\Lib\\site-packages\\selenium\\webdriver\\chrome\\webdriver.py:45\u001b[0m, in \u001b[0;36mWebDriver.__init__\u001b[1;34m(self, options, service, keep_alive)\u001b[0m\n\u001b[0;32m     42\u001b[0m service \u001b[39m=\u001b[39m service \u001b[39mif\u001b[39;00m service \u001b[39melse\u001b[39;00m Service()\n\u001b[0;32m     43\u001b[0m options \u001b[39m=\u001b[39m options \u001b[39mif\u001b[39;00m options \u001b[39melse\u001b[39;00m Options()\n\u001b[1;32m---> 45\u001b[0m \u001b[39msuper\u001b[39m()\u001b[39m.\u001b[39m\u001b[39m__init__\u001b[39m(\n\u001b[0;32m     46\u001b[0m     DesiredCapabilities\u001b[39m.\u001b[39mCHROME[\u001b[39m\"\u001b[39m\u001b[39mbrowserName\u001b[39m\u001b[39m\"\u001b[39m],\n\u001b[0;32m     47\u001b[0m     \u001b[39m\"\u001b[39m\u001b[39mgoog\u001b[39m\u001b[39m\"\u001b[39m,\n\u001b[0;32m     48\u001b[0m     options,\n\u001b[0;32m     49\u001b[0m     service,\n\u001b[0;32m     50\u001b[0m     keep_alive,\n\u001b[0;32m     51\u001b[0m )\n",
      "File \u001b[1;32mc:\\Users\\shara\\anaconda3\\Lib\\site-packages\\selenium\\webdriver\\chromium\\webdriver.py:56\u001b[0m, in \u001b[0;36mChromiumDriver.__init__\u001b[1;34m(self, browser_name, vendor_prefix, options, service, keep_alive)\u001b[0m\n\u001b[0;32m     53\u001b[0m \u001b[39mself\u001b[39m\u001b[39m.\u001b[39mservice\u001b[39m.\u001b[39mstart()\n\u001b[0;32m     55\u001b[0m \u001b[39mtry\u001b[39;00m:\n\u001b[1;32m---> 56\u001b[0m     \u001b[39msuper\u001b[39m()\u001b[39m.\u001b[39m\u001b[39m__init__\u001b[39m(\n\u001b[0;32m     57\u001b[0m         command_executor\u001b[39m=\u001b[39mChromiumRemoteConnection(\n\u001b[0;32m     58\u001b[0m             remote_server_addr\u001b[39m=\u001b[39m\u001b[39mself\u001b[39m\u001b[39m.\u001b[39mservice\u001b[39m.\u001b[39mservice_url,\n\u001b[0;32m     59\u001b[0m             browser_name\u001b[39m=\u001b[39mbrowser_name,\n\u001b[0;32m     60\u001b[0m             vendor_prefix\u001b[39m=\u001b[39mvendor_prefix,\n\u001b[0;32m     61\u001b[0m             keep_alive\u001b[39m=\u001b[39mkeep_alive,\n\u001b[0;32m     62\u001b[0m             ignore_proxy\u001b[39m=\u001b[39moptions\u001b[39m.\u001b[39m_ignore_local_proxy,\n\u001b[0;32m     63\u001b[0m         ),\n\u001b[0;32m     64\u001b[0m         options\u001b[39m=\u001b[39moptions,\n\u001b[0;32m     65\u001b[0m     )\n\u001b[0;32m     66\u001b[0m \u001b[39mexcept\u001b[39;00m \u001b[39mException\u001b[39;00m:\n\u001b[0;32m     67\u001b[0m     \u001b[39mself\u001b[39m\u001b[39m.\u001b[39mquit()\n",
      "File \u001b[1;32mc:\\Users\\shara\\anaconda3\\Lib\\site-packages\\selenium\\webdriver\\remote\\webdriver.py:208\u001b[0m, in \u001b[0;36mWebDriver.__init__\u001b[1;34m(self, command_executor, keep_alive, file_detector, options)\u001b[0m\n\u001b[0;32m    206\u001b[0m \u001b[39mself\u001b[39m\u001b[39m.\u001b[39m_authenticator_id \u001b[39m=\u001b[39m \u001b[39mNone\u001b[39;00m\n\u001b[0;32m    207\u001b[0m \u001b[39mself\u001b[39m\u001b[39m.\u001b[39mstart_client()\n\u001b[1;32m--> 208\u001b[0m \u001b[39mself\u001b[39m\u001b[39m.\u001b[39mstart_session(capabilities)\n",
      "File \u001b[1;32mc:\\Users\\shara\\anaconda3\\Lib\\site-packages\\selenium\\webdriver\\remote\\webdriver.py:292\u001b[0m, in \u001b[0;36mWebDriver.start_session\u001b[1;34m(self, capabilities)\u001b[0m\n\u001b[0;32m    285\u001b[0m \u001b[39m\u001b[39m\u001b[39m\"\"\"Creates a new session with the desired capabilities.\u001b[39;00m\n\u001b[0;32m    286\u001b[0m \n\u001b[0;32m    287\u001b[0m \u001b[39m:Args:\u001b[39;00m\n\u001b[0;32m    288\u001b[0m \u001b[39m - capabilities - a capabilities dict to start the session with.\u001b[39;00m\n\u001b[0;32m    289\u001b[0m \u001b[39m\"\"\"\u001b[39;00m\n\u001b[0;32m    291\u001b[0m caps \u001b[39m=\u001b[39m _create_caps(capabilities)\n\u001b[1;32m--> 292\u001b[0m response \u001b[39m=\u001b[39m \u001b[39mself\u001b[39m\u001b[39m.\u001b[39mexecute(Command\u001b[39m.\u001b[39mNEW_SESSION, caps)[\u001b[39m\"\u001b[39m\u001b[39mvalue\u001b[39m\u001b[39m\"\u001b[39m]\n\u001b[0;32m    293\u001b[0m \u001b[39mself\u001b[39m\u001b[39m.\u001b[39msession_id \u001b[39m=\u001b[39m response\u001b[39m.\u001b[39mget(\u001b[39m\"\u001b[39m\u001b[39msessionId\u001b[39m\u001b[39m\"\u001b[39m)\n\u001b[0;32m    294\u001b[0m \u001b[39mself\u001b[39m\u001b[39m.\u001b[39mcaps \u001b[39m=\u001b[39m response\u001b[39m.\u001b[39mget(\u001b[39m\"\u001b[39m\u001b[39mcapabilities\u001b[39m\u001b[39m\"\u001b[39m)\n",
      "File \u001b[1;32mc:\\Users\\shara\\anaconda3\\Lib\\site-packages\\selenium\\webdriver\\remote\\webdriver.py:347\u001b[0m, in \u001b[0;36mWebDriver.execute\u001b[1;34m(self, driver_command, params)\u001b[0m\n\u001b[0;32m    345\u001b[0m response \u001b[39m=\u001b[39m \u001b[39mself\u001b[39m\u001b[39m.\u001b[39mcommand_executor\u001b[39m.\u001b[39mexecute(driver_command, params)\n\u001b[0;32m    346\u001b[0m \u001b[39mif\u001b[39;00m response:\n\u001b[1;32m--> 347\u001b[0m     \u001b[39mself\u001b[39m\u001b[39m.\u001b[39merror_handler\u001b[39m.\u001b[39mcheck_response(response)\n\u001b[0;32m    348\u001b[0m     response[\u001b[39m\"\u001b[39m\u001b[39mvalue\u001b[39m\u001b[39m\"\u001b[39m] \u001b[39m=\u001b[39m \u001b[39mself\u001b[39m\u001b[39m.\u001b[39m_unwrap_value(response\u001b[39m.\u001b[39mget(\u001b[39m\"\u001b[39m\u001b[39mvalue\u001b[39m\u001b[39m\"\u001b[39m, \u001b[39mNone\u001b[39;00m))\n\u001b[0;32m    349\u001b[0m     \u001b[39mreturn\u001b[39;00m response\n",
      "File \u001b[1;32mc:\\Users\\shara\\anaconda3\\Lib\\site-packages\\selenium\\webdriver\\remote\\errorhandler.py:229\u001b[0m, in \u001b[0;36mErrorHandler.check_response\u001b[1;34m(self, response)\u001b[0m\n\u001b[0;32m    227\u001b[0m         alert_text \u001b[39m=\u001b[39m value[\u001b[39m\"\u001b[39m\u001b[39malert\u001b[39m\u001b[39m\"\u001b[39m]\u001b[39m.\u001b[39mget(\u001b[39m\"\u001b[39m\u001b[39mtext\u001b[39m\u001b[39m\"\u001b[39m)\n\u001b[0;32m    228\u001b[0m     \u001b[39mraise\u001b[39;00m exception_class(message, screen, stacktrace, alert_text)  \u001b[39m# type: ignore[call-arg]  # mypy is not smart enough here\u001b[39;00m\n\u001b[1;32m--> 229\u001b[0m \u001b[39mraise\u001b[39;00m exception_class(message, screen, stacktrace)\n",
      "\u001b[1;31mSessionNotCreatedException\u001b[0m: Message: session not created: This version of ChromeDriver only supports Chrome version 114\nCurrent browser version is 118.0.5993.118 with binary path C:\\Program Files\\Google\\Chrome\\Application\\chrome.exe\nStacktrace:\nBacktrace:\n\tGetHandleVerifier [0x009F6E73+48323]\n\t(No symbol) [0x00989661]\n\t(No symbol) [0x00895308]\n\t(No symbol) [0x008B634C]\n\t(No symbol) [0x008B2093]\n\t(No symbol) [0x008B0719]\n\t(No symbol) [0x008E0DF5]\n\t(No symbol) [0x008E0ADC]\n\t(No symbol) [0x008DA6D6]\n\t(No symbol) [0x008B847C]\n\t(No symbol) [0x008B957D]\n\tGetHandleVerifier [0x00C5FD5D+2575277]\n\tGetHandleVerifier [0x00C9F86E+2836158]\n\tGetHandleVerifier [0x00C996DC+2811180]\n\tGetHandleVerifier [0x00A841B0+626688]\n\t(No symbol) [0x0099314C]\n\t(No symbol) [0x0098F4B8]\n\t(No symbol) [0x0098F59B]\n\t(No symbol) [0x009821B7]\n\tBaseThreadInitThunk [0x76376839+25]\n\tRtlGetFullPathName_UEx [0x77C3906F+1215]\n\tRtlGetFullPathName_UEx [0x77C3903D+1165]\n"
     ]
    }
   ],
   "source": [
    "from selenium import webdriver\n",
    "from selenium.webdriver.chrome.service import Service \n",
    "\n",
    "ser = Service(r\"C:/Users/shara/Documents/Code/py/JupyterBooks/chromedriver.exe\")\n",
    "driver = webdriver.Chrome(service=ser)\n",
    "driver.get(\"https://www.google.com\")"
   ]
  },
  {
   "cell_type": "code",
   "execution_count": null,
   "metadata": {},
   "outputs": [],
   "source": []
  }
 ],
 "metadata": {
  "kernelspec": {
   "display_name": "base",
   "language": "python",
   "name": "python3"
  },
  "language_info": {
   "codemirror_mode": {
    "name": "ipython",
    "version": 3
   },
   "file_extension": ".py",
   "mimetype": "text/x-python",
   "name": "python",
   "nbconvert_exporter": "python",
   "pygments_lexer": "ipython3",
   "version": "3.11.3"
  }
 },
 "nbformat": 4,
 "nbformat_minor": 2
}
