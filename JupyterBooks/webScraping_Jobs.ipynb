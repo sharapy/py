{
 "cells": [
  {
   "cell_type": "code",
   "execution_count": 1,
   "metadata": {},
   "outputs": [],
   "source": [
    "import requests\n",
    "import lxml\n",
    "import bs4"
   ]
  },
  {
   "cell_type": "code",
   "execution_count": 65,
   "metadata": {},
   "outputs": [],
   "source": [
    "states_dict = {\n",
    "    'AK': 'Alaska',\n",
    "    'AL': 'Alabama',\n",
    "    'AR': 'Arkansas',\n",
    "    'AZ': 'Arizona',\n",
    "    'CA': 'California',\n",
    "    'CO': 'Colorado',\n",
    "    'CT': 'Connecticut',\n",
    "    'DC': 'District of Columbia',\n",
    "    'DE': 'Delaware',\n",
    "    'FL': 'Florida',\n",
    "    'GA': 'Georgia',\n",
    "    'HI': 'Hawaii',\n",
    "    'IA': 'Iowa',\n",
    "    'ID': 'Idaho',\n",
    "    'IL': 'Illinois',\n",
    "    'IN': 'Indiana',\n",
    "    'KS': 'Kansas',\n",
    "    'KY': 'Kentucky',\n",
    "    'LA': 'Louisiana',\n",
    "    'MA': 'Massachusetts',\n",
    "    'MD': 'Maryland',\n",
    "    'ME': 'Maine',\n",
    "    'MI': 'Michigan',\n",
    "    'MN': 'Minnesota',\n",
    "    'MO': 'Missouri',\n",
    "    'MS': 'Mississippi',\n",
    "    'MT': 'Montana',\n",
    "    'NC': 'North Carolina',\n",
    "    'ND': 'North Dakota',\n",
    "    'NE': 'Nebraska',\n",
    "    'NH': 'New Hampshire',\n",
    "    'NJ': 'New Jersey',\n",
    "    'NM': 'New Mexico',\n",
    "    'NV': 'Nevada',\n",
    "    'NY': 'New York',\n",
    "    'OH': 'Ohio',\n",
    "    'OK': 'Oklahoma',\n",
    "    'OR': 'Oregon',\n",
    "    'PA': 'Pennsylvania',\n",
    "    'RI': 'Rhode Island',\n",
    "    'SC': 'South Carolina',\n",
    "    'SD': 'South Dakota',\n",
    "    'TN': 'Tennessee',\n",
    "    'TX': 'Texas',\n",
    "    'UT': 'Utah',\n",
    "    'VA': 'Virginia',\n",
    "    'VT': 'Vermont',\n",
    "    'WA': 'Washington',\n",
    "    'WI': 'Wisconsin',\n",
    "    'WV': 'West Virginia',\n",
    "    'WY': 'Wyoming'\n",
    "}"
   ]
  },
  {
   "cell_type": "code",
   "execution_count": 115,
   "metadata": {},
   "outputs": [],
   "source": [
    "URL = \"https://getwork.com/search/results?keyword=machine+learning&location=usa&posted=14d&pageNum={}\"\n",
    "job_list = []\n",
    "for page_num in range(1,21):\n",
    "    result = requests.get(URL.format(page_num))\n",
    "    soup = bs4.BeautifulSoup(result.text, \"lxml\")\n",
    "    job_planks = soup.select(\".col.s12\")\n",
    "    for job in job_planks:\n",
    "        if job.select(\"h4\") != [] and \"machine learning\" in job.select(\"h4\")[0].text.lower() and job.select(\".f-s-14.no-margin span\")[1].text[-2:] in list(states_dict.keys()):\n",
    "            designation = job.select(\"h4\")[0].text\n",
    "            company_name = job.select(\".f-s-14.no-margin span\")[0].text\n",
    "            location = job.select(\".f-s-14.no-margin span\")[1].text\n",
    "            job_details = {\"post\": designation, \"company\": company_name, \"location\": location}\n",
    "            job_list.append(job_details)\n",
    "# job_list\n",
    "#soup"
   ]
  },
  {
   "cell_type": "code",
   "execution_count": 100,
   "metadata": {},
   "outputs": [
    {
     "data": {
      "text/plain": [
       "[{'post': 'Machine Learning Engineer',\n",
       "  'company': 'Booz Allen Hamilton Inc.',\n",
       "  'location': 'Washington, DC'},\n",
       " {'post': 'Principal Machine Learning Engineer',\n",
       "  'company': 'Pinterest',\n",
       "  'location': 'San Francisco, CA'},\n",
       " {'post': 'Machine Learning Engineer, Senior',\n",
       "  'company': 'Booz Allen Hamilton Inc.',\n",
       "  'location': 'Bethesda, MD'},\n",
       " {'post': 'Machine Learning Engineer, Senior',\n",
       "  'company': 'Booz Allen Hamilton Inc.',\n",
       "  'location': 'Alexandria, VA'},\n",
       " {'post': 'Lead Machine Learning Engineer',\n",
       "  'company': 'Capital One',\n",
       "  'location': 'Mclean, VA'},\n",
       " {'post': 'Lead Machine Learning Engineer',\n",
       "  'company': 'Capital One',\n",
       "  'location': 'New York, NY'},\n",
       " {'post': 'Machine Learning Engineer, Senior',\n",
       "  'company': 'Booz Allen Hamilton Inc.',\n",
       "  'location': 'Colorado Springs, CO'},\n",
       " {'post': 'Senior Scientist, Machine Learning',\n",
       "  'company': 'Bristol Myers Squibb',\n",
       "  'location': 'San Diego, CA'},\n",
       " {'post': 'Machine Learning Research Scientist',\n",
       "  'company': 'Nuro',\n",
       "  'location': 'Mountain View, CA'},\n",
       " {'post': 'Hewlett Packard Labs - AI/Machine Learning Engineer',\n",
       "  'company': 'Hewlett Packard Enterprise',\n",
       "  'location': 'Fort Collins, CO'},\n",
       " {'post': 'Machine Learning Engineer, Senior',\n",
       "  'company': 'Booz Allen Hamilton Inc.',\n",
       "  'location': 'Bethesda, MD'},\n",
       " {'post': 'Machine Learning Engineer - Modeling',\n",
       "  'company': 'Pryon Inc.',\n",
       "  'location': 'Boston, MA'},\n",
       " {'post': 'Machine Learning Engineer',\n",
       "  'company': 'Adobe Systems Incorporated',\n",
       "  'location': 'San Jose, CA'},\n",
       " {'post': 'Machine Learning Engineer',\n",
       "  'company': 'Adobe Systems Incorporated',\n",
       "  'location': 'San Jose, CA'},\n",
       " {'post': 'Machine Learning Engineer',\n",
       "  'company': 'Micron Technology, Inc.',\n",
       "  'location': 'Boise, ID'},\n",
       " {'post': 'Machine Learning Engineer',\n",
       "  'company': 'Zefr',\n",
       "  'location': 'Marina Del Rey, CA'},\n",
       " {'post': 'Machine Learning Engineer',\n",
       "  'company': 'Fidelity National Information Services',\n",
       "  'location': 'Walbrook, MD'},\n",
       " {'post': 'Machine Learning Engineer',\n",
       "  'company': 'IBM Corporation',\n",
       "  'location': 'North Atlanta, GA'},\n",
       " {'post': 'Machine Learning Engineer',\n",
       "  'company': 'Adobe Systems Incorporated',\n",
       "  'location': 'Waltham, MA'},\n",
       " {'post': 'Machine Learning Engineer',\n",
       "  'company': 'Adobe Systems Incorporated',\n",
       "  'location': 'Seattle, WA'},\n",
       " {'post': 'Machine Learning Engineer',\n",
       "  'company': 'Adobe Systems Incorporated',\n",
       "  'location': 'San Jose, CA'},\n",
       " {'post': 'Machine Learning Engineer',\n",
       "  'company': 'UST Global',\n",
       "  'location': 'Aliso Viejo, CA'},\n",
       " {'post': 'Machine Learning Engineer',\n",
       "  'company': 'UST Global',\n",
       "  'location': 'Aliso Viejo, CA'},\n",
       " {'post': 'Machine Learning Engineer',\n",
       "  'company': 'Adobe Systems Incorporated',\n",
       "  'location': 'San Jose, CA'},\n",
       " {'post': 'Machine Learning Engineer',\n",
       "  'company': 'Adobe Systems Incorporated',\n",
       "  'location': 'Seattle, WA'},\n",
       " {'post': 'Machine Learning Engineer',\n",
       "  'company': 'Adobe Systems Incorporated',\n",
       "  'location': 'San Jose, CA'},\n",
       " {'post': 'A/AI Machine Learning Engineer',\n",
       "  'company': 'Lockheed Martin Corporation',\n",
       "  'location': 'Littleton, CO'},\n",
       " {'post': 'Principal Machine Learning Engineer (IoT)',\n",
       "  'company': 'Palo Alto Networks Inc.',\n",
       "  'location': 'Santa Clara, CA'}]"
      ]
     },
     "execution_count": 100,
     "metadata": {},
     "output_type": "execute_result"
    }
   ],
   "source": [
    "job_list"
   ]
  },
  {
   "cell_type": "code",
   "execution_count": 101,
   "metadata": {},
   "outputs": [
    {
     "data": {
      "text/plain": [
       "28"
      ]
     },
     "execution_count": 101,
     "metadata": {},
     "output_type": "execute_result"
    }
   ],
   "source": [
    "len(job_list)"
   ]
  },
  {
   "cell_type": "code",
   "execution_count": 114,
   "metadata": {},
   "outputs": [
    {
     "name": "stdout",
     "output_type": "stream",
     "text": [
      "{'post': 'Machine Learning Engineer', 'company': 'Adobe Systems Incorporated', 'location': 'Seattle, WA'}\n",
      "{'post': 'Machine Learning Engineer', 'company': 'Adobe Systems Incorporated', 'location': 'Seattle, WA'}\n"
     ]
    }
   ],
   "source": [
    "for job in job_list:\n",
    "    if \"WA\" in job[\"location\"]:\n",
    "        print(job)"
   ]
  },
  {
   "cell_type": "code",
   "execution_count": 73,
   "metadata": {},
   "outputs": [
    {
     "data": {
      "text/plain": [
       "['AK',\n",
       " 'AL',\n",
       " 'AR',\n",
       " 'AZ',\n",
       " 'CA',\n",
       " 'CO',\n",
       " 'CT',\n",
       " 'DC',\n",
       " 'DE',\n",
       " 'FL',\n",
       " 'GA',\n",
       " 'HI',\n",
       " 'IA',\n",
       " 'ID',\n",
       " 'IL',\n",
       " 'IN',\n",
       " 'KS',\n",
       " 'KY',\n",
       " 'LA',\n",
       " 'MA',\n",
       " 'MD',\n",
       " 'ME',\n",
       " 'MI',\n",
       " 'MN',\n",
       " 'MO',\n",
       " 'MS',\n",
       " 'MT',\n",
       " 'NC',\n",
       " 'ND',\n",
       " 'NE',\n",
       " 'NH',\n",
       " 'NJ',\n",
       " 'NM',\n",
       " 'NV',\n",
       " 'NY',\n",
       " 'OH',\n",
       " 'OK',\n",
       " 'OR',\n",
       " 'PA',\n",
       " 'RI',\n",
       " 'SC',\n",
       " 'SD',\n",
       " 'TN',\n",
       " 'TX',\n",
       " 'UT',\n",
       " 'VA',\n",
       " 'VT',\n",
       " 'WA',\n",
       " 'WI',\n",
       " 'WV',\n",
       " 'WY']"
      ]
     },
     "execution_count": 73,
     "metadata": {},
     "output_type": "execute_result"
    }
   ],
   "source": [
    "list(states_dict.keys())"
   ]
  },
  {
   "cell_type": "code",
   "execution_count": null,
   "metadata": {},
   "outputs": [],
   "source": []
  },
  {
   "cell_type": "code",
   "execution_count": null,
   "metadata": {},
   "outputs": [],
   "source": []
  }
 ],
 "metadata": {
  "kernelspec": {
   "display_name": "base",
   "language": "python",
   "name": "python3"
  },
  "language_info": {
   "codemirror_mode": {
    "name": "ipython",
    "version": 3
   },
   "file_extension": ".py",
   "mimetype": "text/x-python",
   "name": "python",
   "nbconvert_exporter": "python",
   "pygments_lexer": "ipython3",
   "version": "3.11.3"
  }
 },
 "nbformat": 4,
 "nbformat_minor": 2
}
